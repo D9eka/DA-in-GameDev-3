{
 "cells": [
  {
   "cell_type": "code",
   "execution_count": null,
   "id": "2d6bca12",
   "metadata": {},
   "outputs": [],
   "source": [
    "import math\n",
    "import gspread\n",
    "import numpy as np\n",
    "gc = gspread.service_account(filename='da-in-gamedev-3-20461027edd2.json')\n",
    "sh = gc.open(\"DA-in-GameDev-3\")\n",
    "\n",
    "level_count = 10\n",
    "\n",
    "shields_num_array = [3, 3, 3, 2, 2, 2, 2, 1, 1, 1]\n",
    "shields_num_table_start_index = 0\n",
    "\n",
    "dragon_speed_start = 5\n",
    "dragon_speed_modifier = 2\n",
    "dragon_speed_table_start_index = 10\n",
    "\n",
    "dragon_time_between_egg_drop_start = 1\n",
    "dragon_time_between_egg_drop_modifier = -0.05\n",
    "dragon_time_between_egg_drop_table_start_index = 20\n",
    "\n",
    "dragon_left_right_distance_start = 10\n",
    "dragon_left_right_distance_modifier = 1\n",
    "dragon_left_right_distance_table_start_index = 30\n",
    "\n",
    "dragon_egg_speed_start = 0\n",
    "dragon_egg_speed_modifier = 2\n",
    "dragon_egg_speed_table_start_index = 40\n",
    "\n",
    "\n",
    "def create_array_modifier(length, startNum, modifier):\n",
    "    array = []\n",
    "    for i in range(length):\n",
    "        array.append(round(startNum + (i * modifier), 2))\n",
    "    return array\n",
    "\n",
    "def int_to_column_index(num):\n",
    "    num += 65\n",
    "    if(num <= 90):\n",
    "        return chr(num);\n",
    "    return 'A' + int_to_column_index(num - 91)\n",
    "\n",
    "def update_table(values, start_index):\n",
    "      for i in range(len(values)):\n",
    "            sh.sheet1.update((int_to_column_index(start_index + i) + \"3\"), values[i])\n",
    "\n",
    "update_table(shields_num_array, shields_num_table_start_index)\n",
    "            \n",
    "dragon_speed_array = create_array_modifier(level_count, dragon_speed_start, dragon_speed_modifier)\n",
    "update_table(dragon_speed_array, dragon_speed_table_start_index)\n",
    "\n",
    "dragon_time_between_egg_drop_array = create_array_modifier(level_count, dragon_time_between_egg_drop_start, dragon_time_between_egg_drop_modifier)\n",
    "update_table(dragon_time_between_egg_drop_array, dragon_time_between_egg_drop_table_start_index)\n",
    "\n",
    "dragon_left_right_distance_array = create_array_modifier(level_count, dragon_left_right_distance_start, dragon_left_right_distance_modifier)\n",
    "update_table(dragon_left_right_distance_array, dragon_left_right_distance_table_start_index)\n",
    "\n",
    "dragon_egg_speed_array = create_array_modifier(level_count, dragon_egg_speed_start, dragon_egg_speed_modifier)\n",
    "update_table(dragon_egg_speed_array, dragon_egg_speed_table_start_index)"
   ]
  },
  {
   "cell_type": "code",
   "execution_count": null,
   "id": "5f5c3622",
   "metadata": {},
   "outputs": [],
   "source": []
  },
  {
   "cell_type": "code",
   "execution_count": null,
   "id": "2ff701d8",
   "metadata": {},
   "outputs": [],
   "source": []
  }
 ],
 "metadata": {
  "kernelspec": {
   "display_name": "Python 3 (ipykernel)",
   "language": "python",
   "name": "python3"
  },
  "language_info": {
   "codemirror_mode": {
    "name": "ipython",
    "version": 3
   },
   "file_extension": ".py",
   "mimetype": "text/x-python",
   "name": "python",
   "nbconvert_exporter": "python",
   "pygments_lexer": "ipython3",
   "version": "3.11.4"
  }
 },
 "nbformat": 4,
 "nbformat_minor": 5
}
